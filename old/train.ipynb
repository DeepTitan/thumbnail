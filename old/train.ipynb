{
  "nbformat": 4,
  "nbformat_minor": 0,
  "metadata": {
    "colab": {
      "name": "train.ipynb",
      "provenance": [],
      "machine_shape": "hm"
    },
    "kernelspec": {
      "name": "python3",
      "display_name": "Python 3"
    },
    "language_info": {
      "name": "python"
    },
    "accelerator": "GPU"
  },
  "cells": [
    {
      "cell_type": "code",
      "execution_count": 1,
      "metadata": {
        "colab": {
          "base_uri": "https://localhost:8080/"
        },
        "id": "ZjyDr3-b6uZz",
        "outputId": "7b52fa26-6092-4baf-bb54-42b891c4da43"
      },
      "outputs": [
        {
          "output_type": "stream",
          "name": "stdout",
          "text": [
            "Cloning into 'improved-diffusion'...\n",
            "remote: Enumerating objects: 53, done.\u001b[K\n",
            "remote: Counting objects: 100% (22/22), done.\u001b[K\n",
            "remote: Compressing objects: 100% (12/12), done.\u001b[K\n",
            "remote: Total 53 (delta 10), reused 10 (delta 10), pack-reused 31\u001b[K\n",
            "Unpacking objects: 100% (53/53), done.\n",
            "/content/improved-diffusion\n"
          ]
        }
      ],
      "source": [
        "!git clone --recursive https://github.com/openai/improved-diffusion.git\n",
        "%cd improved-diffusion/\n",
        "\n"
      ]
    },
    {
      "cell_type": "code",
      "source": [
        "!pip install -e ."
      ],
      "metadata": {
        "colab": {
          "base_uri": "https://localhost:8080/"
        },
        "id": "_oNsweic-8NU",
        "outputId": "ff5b1500-4922-47dc-b2e5-e8b1d84291c0"
      },
      "execution_count": 2,
      "outputs": [
        {
          "output_type": "stream",
          "name": "stdout",
          "text": [
            "Obtaining file:///content/improved-diffusion\n",
            "Collecting blobfile>=1.0.5\n",
            "  Downloading blobfile-1.2.8-py3-none-any.whl (66 kB)\n",
            "\u001b[K     |████████████████████████████████| 66 kB 3.7 MB/s \n",
            "\u001b[?25hRequirement already satisfied: torch in /usr/local/lib/python3.7/dist-packages (from improved-diffusion==0.0.0) (1.10.0+cu111)\n",
            "Requirement already satisfied: tqdm in /usr/local/lib/python3.7/dist-packages (from improved-diffusion==0.0.0) (4.62.3)\n",
            "Collecting urllib3~=1.25\n",
            "  Downloading urllib3-1.26.8-py2.py3-none-any.whl (138 kB)\n",
            "\u001b[K     |████████████████████████████████| 138 kB 13.9 MB/s \n",
            "\u001b[?25hCollecting pycryptodomex~=3.8\n",
            "  Downloading pycryptodomex-3.14.1-cp35-abi3-manylinux2010_x86_64.whl (2.0 MB)\n",
            "\u001b[K     |████████████████████████████████| 2.0 MB 59.6 MB/s \n",
            "\u001b[?25hCollecting xmltodict~=0.12.0\n",
            "  Downloading xmltodict-0.12.0-py2.py3-none-any.whl (9.2 kB)\n",
            "Requirement already satisfied: filelock~=3.0 in /usr/local/lib/python3.7/dist-packages (from blobfile>=1.0.5->improved-diffusion==0.0.0) (3.4.2)\n",
            "Requirement already satisfied: typing-extensions in /usr/local/lib/python3.7/dist-packages (from torch->improved-diffusion==0.0.0) (3.10.0.2)\n",
            "Installing collected packages: xmltodict, urllib3, pycryptodomex, blobfile, improved-diffusion\n",
            "  Attempting uninstall: urllib3\n",
            "    Found existing installation: urllib3 1.24.3\n",
            "    Uninstalling urllib3-1.24.3:\n",
            "      Successfully uninstalled urllib3-1.24.3\n",
            "  Running setup.py develop for improved-diffusion\n",
            "\u001b[31mERROR: pip's dependency resolver does not currently take into account all the packages that are installed. This behaviour is the source of the following dependency conflicts.\n",
            "requests 2.23.0 requires urllib3!=1.25.0,!=1.25.1,<1.26,>=1.21.1, but you have urllib3 1.26.8 which is incompatible.\n",
            "datascience 0.10.6 requires folium==0.2.1, but you have folium 0.8.3 which is incompatible.\u001b[0m\n",
            "Successfully installed blobfile-1.2.8 improved-diffusion-0.0.0 pycryptodomex-3.14.1 urllib3-1.26.8 xmltodict-0.12.0\n"
          ]
        }
      ]
    },
    {
      "cell_type": "code",
      "source": [
        "!pip install mpi4py\n"
      ],
      "metadata": {
        "colab": {
          "base_uri": "https://localhost:8080/"
        },
        "id": "fKOLfnQJXsQf",
        "outputId": "1580c549-d32e-478c-c0eb-f0445a411e73"
      },
      "execution_count": 3,
      "outputs": [
        {
          "output_type": "stream",
          "name": "stdout",
          "text": [
            "Collecting mpi4py\n",
            "  Downloading mpi4py-3.1.3.tar.gz (2.5 MB)\n",
            "\u001b[?25l\r\u001b[K     |▏                               | 10 kB 30.6 MB/s eta 0:00:01\r\u001b[K     |▎                               | 20 kB 35.6 MB/s eta 0:00:01\r\u001b[K     |▍                               | 30 kB 20.0 MB/s eta 0:00:01\r\u001b[K     |▌                               | 40 kB 8.9 MB/s eta 0:00:01\r\u001b[K     |▋                               | 51 kB 8.6 MB/s eta 0:00:01\r\u001b[K     |▉                               | 61 kB 10.2 MB/s eta 0:00:01\r\u001b[K     |█                               | 71 kB 10.3 MB/s eta 0:00:01\r\u001b[K     |█                               | 81 kB 10.4 MB/s eta 0:00:01\r\u001b[K     |█▏                              | 92 kB 11.6 MB/s eta 0:00:01\r\u001b[K     |█▎                              | 102 kB 9.7 MB/s eta 0:00:01\r\u001b[K     |█▌                              | 112 kB 9.7 MB/s eta 0:00:01\r\u001b[K     |█▋                              | 122 kB 9.7 MB/s eta 0:00:01\r\u001b[K     |█▊                              | 133 kB 9.7 MB/s eta 0:00:01\r\u001b[K     |█▉                              | 143 kB 9.7 MB/s eta 0:00:01\r\u001b[K     |██                              | 153 kB 9.7 MB/s eta 0:00:01\r\u001b[K     |██▏                             | 163 kB 9.7 MB/s eta 0:00:01\r\u001b[K     |██▎                             | 174 kB 9.7 MB/s eta 0:00:01\r\u001b[K     |██▍                             | 184 kB 9.7 MB/s eta 0:00:01\r\u001b[K     |██▌                             | 194 kB 9.7 MB/s eta 0:00:01\r\u001b[K     |██▋                             | 204 kB 9.7 MB/s eta 0:00:01\r\u001b[K     |██▉                             | 215 kB 9.7 MB/s eta 0:00:01\r\u001b[K     |███                             | 225 kB 9.7 MB/s eta 0:00:01\r\u001b[K     |███                             | 235 kB 9.7 MB/s eta 0:00:01\r\u001b[K     |███▏                            | 245 kB 9.7 MB/s eta 0:00:01\r\u001b[K     |███▎                            | 256 kB 9.7 MB/s eta 0:00:01\r\u001b[K     |███▌                            | 266 kB 9.7 MB/s eta 0:00:01\r\u001b[K     |███▋                            | 276 kB 9.7 MB/s eta 0:00:01\r\u001b[K     |███▊                            | 286 kB 9.7 MB/s eta 0:00:01\r\u001b[K     |███▉                            | 296 kB 9.7 MB/s eta 0:00:01\r\u001b[K     |████                            | 307 kB 9.7 MB/s eta 0:00:01\r\u001b[K     |████▏                           | 317 kB 9.7 MB/s eta 0:00:01\r\u001b[K     |████▎                           | 327 kB 9.7 MB/s eta 0:00:01\r\u001b[K     |████▍                           | 337 kB 9.7 MB/s eta 0:00:01\r\u001b[K     |████▌                           | 348 kB 9.7 MB/s eta 0:00:01\r\u001b[K     |████▋                           | 358 kB 9.7 MB/s eta 0:00:01\r\u001b[K     |████▉                           | 368 kB 9.7 MB/s eta 0:00:01\r\u001b[K     |█████                           | 378 kB 9.7 MB/s eta 0:00:01\r\u001b[K     |█████                           | 389 kB 9.7 MB/s eta 0:00:01\r\u001b[K     |█████▏                          | 399 kB 9.7 MB/s eta 0:00:01\r\u001b[K     |█████▎                          | 409 kB 9.7 MB/s eta 0:00:01\r\u001b[K     |█████▌                          | 419 kB 9.7 MB/s eta 0:00:01\r\u001b[K     |█████▋                          | 430 kB 9.7 MB/s eta 0:00:01\r\u001b[K     |█████▊                          | 440 kB 9.7 MB/s eta 0:00:01\r\u001b[K     |█████▉                          | 450 kB 9.7 MB/s eta 0:00:01\r\u001b[K     |██████                          | 460 kB 9.7 MB/s eta 0:00:01\r\u001b[K     |██████▏                         | 471 kB 9.7 MB/s eta 0:00:01\r\u001b[K     |██████▎                         | 481 kB 9.7 MB/s eta 0:00:01\r\u001b[K     |██████▍                         | 491 kB 9.7 MB/s eta 0:00:01\r\u001b[K     |██████▌                         | 501 kB 9.7 MB/s eta 0:00:01\r\u001b[K     |██████▋                         | 512 kB 9.7 MB/s eta 0:00:01\r\u001b[K     |██████▉                         | 522 kB 9.7 MB/s eta 0:00:01\r\u001b[K     |███████                         | 532 kB 9.7 MB/s eta 0:00:01\r\u001b[K     |███████                         | 542 kB 9.7 MB/s eta 0:00:01\r\u001b[K     |███████▏                        | 552 kB 9.7 MB/s eta 0:00:01\r\u001b[K     |███████▎                        | 563 kB 9.7 MB/s eta 0:00:01\r\u001b[K     |███████▌                        | 573 kB 9.7 MB/s eta 0:00:01\r\u001b[K     |███████▋                        | 583 kB 9.7 MB/s eta 0:00:01\r\u001b[K     |███████▊                        | 593 kB 9.7 MB/s eta 0:00:01\r\u001b[K     |███████▉                        | 604 kB 9.7 MB/s eta 0:00:01\r\u001b[K     |████████                        | 614 kB 9.7 MB/s eta 0:00:01\r\u001b[K     |████████▏                       | 624 kB 9.7 MB/s eta 0:00:01\r\u001b[K     |████████▎                       | 634 kB 9.7 MB/s eta 0:00:01\r\u001b[K     |████████▍                       | 645 kB 9.7 MB/s eta 0:00:01\r\u001b[K     |████████▌                       | 655 kB 9.7 MB/s eta 0:00:01\r\u001b[K     |████████▋                       | 665 kB 9.7 MB/s eta 0:00:01\r\u001b[K     |████████▉                       | 675 kB 9.7 MB/s eta 0:00:01\r\u001b[K     |█████████                       | 686 kB 9.7 MB/s eta 0:00:01\r\u001b[K     |█████████                       | 696 kB 9.7 MB/s eta 0:00:01\r\u001b[K     |█████████▏                      | 706 kB 9.7 MB/s eta 0:00:01\r\u001b[K     |█████████▎                      | 716 kB 9.7 MB/s eta 0:00:01\r\u001b[K     |█████████▌                      | 727 kB 9.7 MB/s eta 0:00:01\r\u001b[K     |█████████▋                      | 737 kB 9.7 MB/s eta 0:00:01\r\u001b[K     |█████████▊                      | 747 kB 9.7 MB/s eta 0:00:01\r\u001b[K     |█████████▉                      | 757 kB 9.7 MB/s eta 0:00:01\r\u001b[K     |██████████                      | 768 kB 9.7 MB/s eta 0:00:01\r\u001b[K     |██████████▏                     | 778 kB 9.7 MB/s eta 0:00:01\r\u001b[K     |██████████▎                     | 788 kB 9.7 MB/s eta 0:00:01\r\u001b[K     |██████████▍                     | 798 kB 9.7 MB/s eta 0:00:01\r\u001b[K     |██████████▌                     | 808 kB 9.7 MB/s eta 0:00:01\r\u001b[K     |██████████▋                     | 819 kB 9.7 MB/s eta 0:00:01\r\u001b[K     |██████████▉                     | 829 kB 9.7 MB/s eta 0:00:01\r\u001b[K     |███████████                     | 839 kB 9.7 MB/s eta 0:00:01\r\u001b[K     |███████████                     | 849 kB 9.7 MB/s eta 0:00:01\r\u001b[K     |███████████▏                    | 860 kB 9.7 MB/s eta 0:00:01\r\u001b[K     |███████████▎                    | 870 kB 9.7 MB/s eta 0:00:01\r\u001b[K     |███████████▌                    | 880 kB 9.7 MB/s eta 0:00:01\r\u001b[K     |███████████▋                    | 890 kB 9.7 MB/s eta 0:00:01\r\u001b[K     |███████████▊                    | 901 kB 9.7 MB/s eta 0:00:01\r\u001b[K     |███████████▉                    | 911 kB 9.7 MB/s eta 0:00:01\r\u001b[K     |████████████                    | 921 kB 9.7 MB/s eta 0:00:01\r\u001b[K     |████████████▏                   | 931 kB 9.7 MB/s eta 0:00:01\r\u001b[K     |████████████▎                   | 942 kB 9.7 MB/s eta 0:00:01\r\u001b[K     |████████████▍                   | 952 kB 9.7 MB/s eta 0:00:01\r\u001b[K     |████████████▌                   | 962 kB 9.7 MB/s eta 0:00:01\r\u001b[K     |████████████▋                   | 972 kB 9.7 MB/s eta 0:00:01\r\u001b[K     |████████████▉                   | 983 kB 9.7 MB/s eta 0:00:01\r\u001b[K     |█████████████                   | 993 kB 9.7 MB/s eta 0:00:01\r\u001b[K     |█████████████                   | 1.0 MB 9.7 MB/s eta 0:00:01\r\u001b[K     |█████████████▏                  | 1.0 MB 9.7 MB/s eta 0:00:01\r\u001b[K     |█████████████▎                  | 1.0 MB 9.7 MB/s eta 0:00:01\r\u001b[K     |█████████████▌                  | 1.0 MB 9.7 MB/s eta 0:00:01\r\u001b[K     |█████████████▋                  | 1.0 MB 9.7 MB/s eta 0:00:01\r\u001b[K     |█████████████▊                  | 1.1 MB 9.7 MB/s eta 0:00:01\r\u001b[K     |█████████████▉                  | 1.1 MB 9.7 MB/s eta 0:00:01\r\u001b[K     |██████████████                  | 1.1 MB 9.7 MB/s eta 0:00:01\r\u001b[K     |██████████████▏                 | 1.1 MB 9.7 MB/s eta 0:00:01\r\u001b[K     |██████████████▎                 | 1.1 MB 9.7 MB/s eta 0:00:01\r\u001b[K     |██████████████▍                 | 1.1 MB 9.7 MB/s eta 0:00:01\r\u001b[K     |██████████████▌                 | 1.1 MB 9.7 MB/s eta 0:00:01\r\u001b[K     |██████████████▋                 | 1.1 MB 9.7 MB/s eta 0:00:01\r\u001b[K     |██████████████▊                 | 1.1 MB 9.7 MB/s eta 0:00:01\r\u001b[K     |███████████████                 | 1.1 MB 9.7 MB/s eta 0:00:01\r\u001b[K     |███████████████                 | 1.2 MB 9.7 MB/s eta 0:00:01\r\u001b[K     |███████████████▏                | 1.2 MB 9.7 MB/s eta 0:00:01\r\u001b[K     |███████████████▎                | 1.2 MB 9.7 MB/s eta 0:00:01\r\u001b[K     |███████████████▍                | 1.2 MB 9.7 MB/s eta 0:00:01\r\u001b[K     |███████████████▋                | 1.2 MB 9.7 MB/s eta 0:00:01\r\u001b[K     |███████████████▊                | 1.2 MB 9.7 MB/s eta 0:00:01\r\u001b[K     |███████████████▉                | 1.2 MB 9.7 MB/s eta 0:00:01\r\u001b[K     |████████████████                | 1.2 MB 9.7 MB/s eta 0:00:01\r\u001b[K     |████████████████                | 1.2 MB 9.7 MB/s eta 0:00:01\r\u001b[K     |████████████████▎               | 1.2 MB 9.7 MB/s eta 0:00:01\r\u001b[K     |████████████████▍               | 1.3 MB 9.7 MB/s eta 0:00:01\r\u001b[K     |████████████████▌               | 1.3 MB 9.7 MB/s eta 0:00:01\r\u001b[K     |████████████████▋               | 1.3 MB 9.7 MB/s eta 0:00:01\r\u001b[K     |████████████████▊               | 1.3 MB 9.7 MB/s eta 0:00:01\r\u001b[K     |█████████████████               | 1.3 MB 9.7 MB/s eta 0:00:01\r\u001b[K     |█████████████████               | 1.3 MB 9.7 MB/s eta 0:00:01\r\u001b[K     |█████████████████▏              | 1.3 MB 9.7 MB/s eta 0:00:01\r\u001b[K     |█████████████████▎              | 1.3 MB 9.7 MB/s eta 0:00:01\r\u001b[K     |█████████████████▍              | 1.3 MB 9.7 MB/s eta 0:00:01\r\u001b[K     |█████████████████▋              | 1.4 MB 9.7 MB/s eta 0:00:01\r\u001b[K     |█████████████████▊              | 1.4 MB 9.7 MB/s eta 0:00:01\r\u001b[K     |█████████████████▉              | 1.4 MB 9.7 MB/s eta 0:00:01\r\u001b[K     |██████████████████              | 1.4 MB 9.7 MB/s eta 0:00:01\r\u001b[K     |██████████████████              | 1.4 MB 9.7 MB/s eta 0:00:01\r\u001b[K     |██████████████████▎             | 1.4 MB 9.7 MB/s eta 0:00:01\r\u001b[K     |██████████████████▍             | 1.4 MB 9.7 MB/s eta 0:00:01\r\u001b[K     |██████████████████▌             | 1.4 MB 9.7 MB/s eta 0:00:01\r\u001b[K     |██████████████████▋             | 1.4 MB 9.7 MB/s eta 0:00:01\r\u001b[K     |██████████████████▊             | 1.4 MB 9.7 MB/s eta 0:00:01\r\u001b[K     |███████████████████             | 1.5 MB 9.7 MB/s eta 0:00:01\r\u001b[K     |███████████████████             | 1.5 MB 9.7 MB/s eta 0:00:01\r\u001b[K     |███████████████████▏            | 1.5 MB 9.7 MB/s eta 0:00:01\r\u001b[K     |███████████████████▎            | 1.5 MB 9.7 MB/s eta 0:00:01\r\u001b[K     |███████████████████▍            | 1.5 MB 9.7 MB/s eta 0:00:01\r\u001b[K     |███████████████████▋            | 1.5 MB 9.7 MB/s eta 0:00:01\r\u001b[K     |███████████████████▊            | 1.5 MB 9.7 MB/s eta 0:00:01\r\u001b[K     |███████████████████▉            | 1.5 MB 9.7 MB/s eta 0:00:01\r\u001b[K     |████████████████████            | 1.5 MB 9.7 MB/s eta 0:00:01\r\u001b[K     |████████████████████            | 1.5 MB 9.7 MB/s eta 0:00:01\r\u001b[K     |████████████████████▎           | 1.6 MB 9.7 MB/s eta 0:00:01\r\u001b[K     |████████████████████▍           | 1.6 MB 9.7 MB/s eta 0:00:01\r\u001b[K     |████████████████████▌           | 1.6 MB 9.7 MB/s eta 0:00:01\r\u001b[K     |████████████████████▋           | 1.6 MB 9.7 MB/s eta 0:00:01\r\u001b[K     |████████████████████▊           | 1.6 MB 9.7 MB/s eta 0:00:01\r\u001b[K     |█████████████████████           | 1.6 MB 9.7 MB/s eta 0:00:01\r\u001b[K     |█████████████████████           | 1.6 MB 9.7 MB/s eta 0:00:01\r\u001b[K     |█████████████████████▏          | 1.6 MB 9.7 MB/s eta 0:00:01\r\u001b[K     |█████████████████████▎          | 1.6 MB 9.7 MB/s eta 0:00:01\r\u001b[K     |█████████████████████▍          | 1.6 MB 9.7 MB/s eta 0:00:01\r\u001b[K     |█████████████████████▋          | 1.7 MB 9.7 MB/s eta 0:00:01\r\u001b[K     |█████████████████████▊          | 1.7 MB 9.7 MB/s eta 0:00:01\r\u001b[K     |█████████████████████▉          | 1.7 MB 9.7 MB/s eta 0:00:01\r\u001b[K     |██████████████████████          | 1.7 MB 9.7 MB/s eta 0:00:01\r\u001b[K     |██████████████████████          | 1.7 MB 9.7 MB/s eta 0:00:01\r\u001b[K     |██████████████████████▎         | 1.7 MB 9.7 MB/s eta 0:00:01\r\u001b[K     |██████████████████████▍         | 1.7 MB 9.7 MB/s eta 0:00:01\r\u001b[K     |██████████████████████▌         | 1.7 MB 9.7 MB/s eta 0:00:01\r\u001b[K     |██████████████████████▋         | 1.7 MB 9.7 MB/s eta 0:00:01\r\u001b[K     |██████████████████████▊         | 1.8 MB 9.7 MB/s eta 0:00:01\r\u001b[K     |███████████████████████         | 1.8 MB 9.7 MB/s eta 0:00:01\r\u001b[K     |███████████████████████         | 1.8 MB 9.7 MB/s eta 0:00:01\r\u001b[K     |███████████████████████▏        | 1.8 MB 9.7 MB/s eta 0:00:01\r\u001b[K     |███████████████████████▎        | 1.8 MB 9.7 MB/s eta 0:00:01\r\u001b[K     |███████████████████████▍        | 1.8 MB 9.7 MB/s eta 0:00:01\r\u001b[K     |███████████████████████▋        | 1.8 MB 9.7 MB/s eta 0:00:01\r\u001b[K     |███████████████████████▊        | 1.8 MB 9.7 MB/s eta 0:00:01\r\u001b[K     |███████████████████████▉        | 1.8 MB 9.7 MB/s eta 0:00:01\r\u001b[K     |████████████████████████        | 1.8 MB 9.7 MB/s eta 0:00:01\r\u001b[K     |████████████████████████        | 1.9 MB 9.7 MB/s eta 0:00:01\r\u001b[K     |████████████████████████▎       | 1.9 MB 9.7 MB/s eta 0:00:01\r\u001b[K     |████████████████████████▍       | 1.9 MB 9.7 MB/s eta 0:00:01\r\u001b[K     |████████████████████████▌       | 1.9 MB 9.7 MB/s eta 0:00:01\r\u001b[K     |████████████████████████▋       | 1.9 MB 9.7 MB/s eta 0:00:01\r\u001b[K     |████████████████████████▊       | 1.9 MB 9.7 MB/s eta 0:00:01\r\u001b[K     |█████████████████████████       | 1.9 MB 9.7 MB/s eta 0:00:01\r\u001b[K     |█████████████████████████       | 1.9 MB 9.7 MB/s eta 0:00:01\r\u001b[K     |█████████████████████████▏      | 1.9 MB 9.7 MB/s eta 0:00:01\r\u001b[K     |█████████████████████████▎      | 1.9 MB 9.7 MB/s eta 0:00:01\r\u001b[K     |█████████████████████████▍      | 2.0 MB 9.7 MB/s eta 0:00:01\r\u001b[K     |█████████████████████████▋      | 2.0 MB 9.7 MB/s eta 0:00:01\r\u001b[K     |█████████████████████████▊      | 2.0 MB 9.7 MB/s eta 0:00:01\r\u001b[K     |█████████████████████████▉      | 2.0 MB 9.7 MB/s eta 0:00:01\r\u001b[K     |██████████████████████████      | 2.0 MB 9.7 MB/s eta 0:00:01\r\u001b[K     |██████████████████████████      | 2.0 MB 9.7 MB/s eta 0:00:01\r\u001b[K     |██████████████████████████▎     | 2.0 MB 9.7 MB/s eta 0:00:01\r\u001b[K     |██████████████████████████▍     | 2.0 MB 9.7 MB/s eta 0:00:01\r\u001b[K     |██████████████████████████▌     | 2.0 MB 9.7 MB/s eta 0:00:01\r\u001b[K     |██████████████████████████▋     | 2.0 MB 9.7 MB/s eta 0:00:01\r\u001b[K     |██████████████████████████▊     | 2.1 MB 9.7 MB/s eta 0:00:01\r\u001b[K     |███████████████████████████     | 2.1 MB 9.7 MB/s eta 0:00:01\r\u001b[K     |███████████████████████████     | 2.1 MB 9.7 MB/s eta 0:00:01\r\u001b[K     |███████████████████████████▏    | 2.1 MB 9.7 MB/s eta 0:00:01\r\u001b[K     |███████████████████████████▎    | 2.1 MB 9.7 MB/s eta 0:00:01\r\u001b[K     |███████████████████████████▍    | 2.1 MB 9.7 MB/s eta 0:00:01\r\u001b[K     |███████████████████████████▋    | 2.1 MB 9.7 MB/s eta 0:00:01\r\u001b[K     |███████████████████████████▊    | 2.1 MB 9.7 MB/s eta 0:00:01\r\u001b[K     |███████████████████████████▉    | 2.1 MB 9.7 MB/s eta 0:00:01\r\u001b[K     |████████████████████████████    | 2.2 MB 9.7 MB/s eta 0:00:01\r\u001b[K     |████████████████████████████    | 2.2 MB 9.7 MB/s eta 0:00:01\r\u001b[K     |████████████████████████████▎   | 2.2 MB 9.7 MB/s eta 0:00:01\r\u001b[K     |████████████████████████████▍   | 2.2 MB 9.7 MB/s eta 0:00:01\r\u001b[K     |████████████████████████████▌   | 2.2 MB 9.7 MB/s eta 0:00:01\r\u001b[K     |████████████████████████████▋   | 2.2 MB 9.7 MB/s eta 0:00:01\r\u001b[K     |████████████████████████████▊   | 2.2 MB 9.7 MB/s eta 0:00:01\r\u001b[K     |█████████████████████████████   | 2.2 MB 9.7 MB/s eta 0:00:01\r\u001b[K     |█████████████████████████████   | 2.2 MB 9.7 MB/s eta 0:00:01\r\u001b[K     |█████████████████████████████▏  | 2.2 MB 9.7 MB/s eta 0:00:01\r\u001b[K     |█████████████████████████████▎  | 2.3 MB 9.7 MB/s eta 0:00:01\r\u001b[K     |█████████████████████████████▍  | 2.3 MB 9.7 MB/s eta 0:00:01\r\u001b[K     |█████████████████████████████▌  | 2.3 MB 9.7 MB/s eta 0:00:01\r\u001b[K     |█████████████████████████████▊  | 2.3 MB 9.7 MB/s eta 0:00:01\r\u001b[K     |█████████████████████████████▉  | 2.3 MB 9.7 MB/s eta 0:00:01\r\u001b[K     |██████████████████████████████  | 2.3 MB 9.7 MB/s eta 0:00:01\r\u001b[K     |██████████████████████████████  | 2.3 MB 9.7 MB/s eta 0:00:01\r\u001b[K     |██████████████████████████████▏ | 2.3 MB 9.7 MB/s eta 0:00:01\r\u001b[K     |██████████████████████████████▍ | 2.3 MB 9.7 MB/s eta 0:00:01\r\u001b[K     |██████████████████████████████▌ | 2.3 MB 9.7 MB/s eta 0:00:01\r\u001b[K     |██████████████████████████████▋ | 2.4 MB 9.7 MB/s eta 0:00:01\r\u001b[K     |██████████████████████████████▊ | 2.4 MB 9.7 MB/s eta 0:00:01\r\u001b[K     |██████████████████████████████▉ | 2.4 MB 9.7 MB/s eta 0:00:01\r\u001b[K     |███████████████████████████████ | 2.4 MB 9.7 MB/s eta 0:00:01\r\u001b[K     |███████████████████████████████▏| 2.4 MB 9.7 MB/s eta 0:00:01\r\u001b[K     |███████████████████████████████▎| 2.4 MB 9.7 MB/s eta 0:00:01\r\u001b[K     |███████████████████████████████▍| 2.4 MB 9.7 MB/s eta 0:00:01\r\u001b[K     |███████████████████████████████▌| 2.4 MB 9.7 MB/s eta 0:00:01\r\u001b[K     |███████████████████████████████▊| 2.4 MB 9.7 MB/s eta 0:00:01\r\u001b[K     |███████████████████████████████▉| 2.4 MB 9.7 MB/s eta 0:00:01\r\u001b[K     |████████████████████████████████| 2.5 MB 9.7 MB/s eta 0:00:01\r\u001b[K     |████████████████████████████████| 2.5 MB 9.7 MB/s \n",
            "\u001b[?25h  Installing build dependencies ... \u001b[?25l\u001b[?25hdone\n",
            "  Getting requirements to build wheel ... \u001b[?25l\u001b[?25hdone\n",
            "    Preparing wheel metadata ... \u001b[?25l\u001b[?25hdone\n",
            "Building wheels for collected packages: mpi4py\n",
            "  Building wheel for mpi4py (PEP 517) ... \u001b[?25l\u001b[?25hdone\n",
            "  Created wheel for mpi4py: filename=mpi4py-3.1.3-cp37-cp37m-linux_x86_64.whl size=2185283 sha256=1f011f3f7d0c19479922ff28daa2150b570ccd329e3fc0c1ebc82d8681ff58f0\n",
            "  Stored in directory: /root/.cache/pip/wheels/7a/07/14/6a0c63fa2c6e473c6edc40985b7d89f05c61ff25ee7f0ad9ac\n",
            "Successfully built mpi4py\n",
            "Installing collected packages: mpi4py\n",
            "Successfully installed mpi4py-3.1.3\n"
          ]
        }
      ]
    },
    {
      "cell_type": "code",
      "source": [
        "%env MODEL_FLAGS= --image_size 64 --num_channels 128 --num_res_blocks 3\n",
        "%env DIFFUSION_FLAGS=--diffusion_steps 4000 --noise_schedule linear\n",
        "%env TRAIN_FLAGS=--lr 1e-4 --batch_size 32\n",
        "%env OPENAI_LOGDIR = ./ckpt_model"
      ],
      "metadata": {
        "id": "P_VwvB7L6_5L",
        "colab": {
          "base_uri": "https://localhost:8080/"
        },
        "outputId": "79aed750-5c3a-4a70-a7e1-385018c05674"
      },
      "execution_count": 4,
      "outputs": [
        {
          "output_type": "stream",
          "name": "stdout",
          "text": [
            "env: MODEL_FLAGS=--image_size 64 --num_channels 128 --num_res_blocks 3\n",
            "env: DIFFUSION_FLAGS=--diffusion_steps 4000 --noise_schedule linear\n",
            "env: TRAIN_FLAGS=--lr 1e-4 --batch_size 32\n",
            "env: OPENAI_LOGDIR=./ckpt_model\n"
          ]
        }
      ]
    },
    {
      "cell_type": "code",
      "source": [
        "!ls"
      ],
      "metadata": {
        "id": "v5ziPqnC7goE",
        "colab": {
          "base_uri": "https://localhost:8080/"
        },
        "outputId": "af8ccd8d-4999-422e-d661-d7c6a8264a38"
      },
      "execution_count": 8,
      "outputs": [
        {
          "output_type": "stream",
          "name": "stdout",
          "text": [
            "ckpt_model  improved_diffusion\t\t LICENSE    scripts\n",
            "datasets    improved_diffusion.egg-info  README.md  setup.py\n"
          ]
        }
      ]
    },
    {
      "cell_type": "code",
      "source": [
        "!python scripts/image_sample.py  --model_path ./ema_0.9999_050000.pt --num_samples 128 $MODEL_FLAGS $DIFFUSION_FLAGS\n"
      ],
      "metadata": {
        "id": "ZZ2dTMHqBQ_y",
        "colab": {
          "base_uri": "https://localhost:8080/"
        },
        "outputId": "e5ad1e62-8dcd-41ca-ffe9-b05f893d6247"
      },
      "execution_count": 16,
      "outputs": [
        {
          "output_type": "stream",
          "name": "stdout",
          "text": [
            "Logging to ./ckpt_model\n",
            "creating model and diffusion...\n",
            "sampling...\n",
            "created 16 samples\n",
            "created 32 samples\n",
            "created 48 samples\n",
            "created 64 samples\n",
            "created 80 samples\n",
            "created 96 samples\n",
            "created 112 samples\n",
            "created 128 samples\n",
            "saving to ./ckpt_model/samples_128x64x64x3.npz\n",
            "sampling complete\n",
            "[e0036adb7500:01214] *** Process received signal ***\n",
            "[e0036adb7500:01214] Signal: Segmentation fault (11)\n",
            "[e0036adb7500:01214] Signal code: Address not mapped (1)\n",
            "[e0036adb7500:01214] Failing at address: 0x7f388254420d\n",
            "[e0036adb7500:01214] [ 0] /lib/x86_64-linux-gnu/libpthread.so.0(+0x12980)[0x7f3884feb980]\n",
            "[e0036adb7500:01214] [ 1] /lib/x86_64-linux-gnu/libc.so.6(getenv+0xa5)[0x7f3884c2a8a5]\n",
            "[e0036adb7500:01214] [ 2] /usr/lib/x86_64-linux-gnu/libtcmalloc.so.4(_ZN13TCMallocGuardD1Ev+0x34)[0x7f3885495e44]\n",
            "[e0036adb7500:01214] [ 3] /lib/x86_64-linux-gnu/libc.so.6(__cxa_finalize+0xf5)[0x7f3884c2b735]\n",
            "[e0036adb7500:01214] [ 4] /usr/lib/x86_64-linux-gnu/libtcmalloc.so.4(+0x13cb3)[0x7f3885493cb3]\n",
            "[e0036adb7500:01214] *** End of error message ***\n"
          ]
        }
      ]
    },
    {
      "cell_type": "code",
      "source": [
        "!ls .."
      ],
      "metadata": {
        "id": "sYFrOlKTuC6-",
        "colab": {
          "base_uri": "https://localhost:8080/"
        },
        "outputId": "8286bd7d-2082-46fb-be56-b3d02c0bcd65"
      },
      "execution_count": 11,
      "outputs": [
        {
          "output_type": "stream",
          "name": "stdout",
          "text": [
            "drive  ema_0.9999_050000.pt  improved-diffusion  sample_data\n"
          ]
        }
      ]
    },
    {
      "cell_type": "code",
      "source": [
        "!ls /tmp"
      ],
      "metadata": {
        "colab": {
          "base_uri": "https://localhost:8080/"
        },
        "id": "bo_6ouYEuOKo",
        "outputId": "b4304dce-2813-4295-e88f-3b680a59fd15"
      },
      "execution_count": 7,
      "outputs": [
        {
          "output_type": "stream",
          "name": "stdout",
          "text": [
            "dap_multiplexer.b6e788d874a8.root.log.INFO.20220218-003210.73\n",
            "dap_multiplexer.INFO\n",
            "debugger_20upmz8vj3\n",
            "directoryprefetcher_binary.b6e788d874a8.root.log.INFO.20220218-024544.2584\n",
            "directoryprefetcher_binary.INFO\n",
            "drivefs_ipc.0\n",
            "drivefs_ipc.0_shell\n",
            "initgoogle_syslog_dir.0\n",
            "openai-2022-02-18-01-08-39-957008\n",
            "openai-2022-02-18-01-09-22-245990\n",
            "openai-2022-02-18-02-37-38-247018\n",
            "openai-2022-02-18-02-40-07-035424\n",
            "openai-2022-02-18-02-40-31-380705\n",
            "openai-2022-02-18-02-42-57-256522\n",
            "openai-2022-02-18-02-43-53-295855\n",
            "openai-2022-02-18-02-44-14-476859\n",
            "openai-2022-02-18-02-44-24-395686\n",
            "openai-2022-02-18-02-44-50-948770\n",
            "openai-2022-02-18-02-45-24-733568\n",
            "pymp-1teh5s72\n",
            "pymp-866s5rql\n",
            "pymp-_bufxysj\n",
            "pymp-ff47jyin\n",
            "pymp-_mzmdat7\n",
            "pymp-nt91y7ml\n",
            "pymp-o7c5x_ft\n",
            "pymp-obji7wlw\n",
            "pyright-2057-Hy5p61uE9Wzp\n",
            "pyright-2057-qwW8TUnSVJ4W\n",
            "pyright-2110-3scdCrqHs3sg\n",
            "pyright-2110-wjKIHHN6QiYd\n",
            "pyright-2211-7yG5edLExgTx\n",
            "pyright-2211-D4VdO1B7yeYD\n",
            "pyright-2342-BAjOFd69qiID\n",
            "pyright-2342-BYlVYV2nDyXQ\n",
            "pyright-2599-hQFS5RtO3ird\n",
            "pyright-2599-YE1oosZhqvLB\n",
            "pyright-271-2DPhc9vRB387\n",
            "pyright-271-wesi2YmnZi5I\n",
            "pyright-637-P9i6EPERfQH1\n",
            "pyright-637-wsD6t31F6ii3\n",
            "python-languageserver-cancellation\n",
            "tmprfjpefpc\n"
          ]
        }
      ]
    },
    {
      "cell_type": "code",
      "source": [
        ""
      ],
      "metadata": {
        "id": "wvg--uwwuUmH"
      },
      "execution_count": null,
      "outputs": []
    }
  ]
}