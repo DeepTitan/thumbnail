{
 "cells": [
  {
   "cell_type": "code",
   "execution_count": 23,
   "metadata": {},
   "outputs": [],
   "source": [
    "#open ft_1024_samples.npz\n",
    "import numpy as np\n",
    "samples = np.load('ft_1024_samples.npz')\n",
    "\n",
    "samples = samples['arr_0']\n",
    "\n",
    "import PIL\n",
    "from PIL import Image\n",
    "\n",
    "#save all samples as images\n",
    "for i in range(samples.shape[0]):\n",
    "    img = Image.fromarray(samples[i].astype('uint8'))\n",
    "    img.save('./fake/sample_' + str(i) + '.png')\n"
   ]
  },
  {
   "cell_type": "code",
   "execution_count": 19,
   "metadata": {},
   "outputs": [],
   "source": [
    "#open ft_1024_samples.npz\n",
    "import numpy as np\n",
    "import PIL\n",
    "from PIL import Image\n",
    "\n",
    "samples = np.load('samples_128x64x64x3.npz')\n",
    "samples = samples['arr_0']\n",
    "\n",
    "\n",
    "#save all samples as images\n",
    "for i in range(samples.shape[0]):\n",
    "    img = Image.fromarray(samples[i].astype('uint8'))\n",
    "    img.save('./fakeb/sampleb_' + str(i) + '.png')\n"
   ]
  },
  {
   "cell_type": "code",
   "execution_count": 12,
   "metadata": {},
   "outputs": [
    {
     "name": "stderr",
     "output_type": "stream",
     "text": [
      "100%|██████████| 10000/10000 [11:05<00:00, 15.02it/s]\n"
     ]
    }
   ],
   "source": [
    "import PIL\n",
    "from PIL import Image \n",
    "from tqdm import tqdm\n",
    "sample_path = '/Volumes/Elements/sample'\n",
    "import os\n",
    "#loop through all files in sample_path\n",
    "for file in tqdm(os.listdir(sample_path)):\n",
    "    try:\n",
    "        #crop the image to be a square centered but keep the original aspect ratio\n",
    "        img = Image.open(sample_path + '/' + file)\n",
    "        #center crop\n",
    "        img = img.crop(((img.size[0]-img.size[1])/2, 0, (img.size[0]+img.size[1])/2, img.size[1]))\n",
    "        #resize the image to 64x64\n",
    "        img = img.resize((64, 64))\n",
    "        #save the image\n",
    "        img.save('./sample_resize/' + file)\n",
    "    except:\n",
    "        #write the file name to a file if there is an error\n",
    "        #remove the file from the ./sample_resize folder\n",
    "        os.remove('./sample_resize/' + file)\n",
    "        with open('./sample_resize/error.txt', 'a') as f:\n",
    "            f.write(file + '\\n')\n",
    "            "
   ]
  },
  {
   "cell_type": "code",
   "execution_count": 20,
   "metadata": {},
   "outputs": [],
   "source": [
    "# #remove images that are in the error file\n",
    "# import os\n",
    "# import shutil\n",
    "# with open('./sample_resize/error.txt') as f:\n",
    "#     lines = f.readlines()\n",
    "# for line in lines:\n",
    "#     os.remove('./sample_resize/' + line.strip())\n",
    "    "
   ]
  },
  {
   "cell_type": "code",
   "execution_count": 25,
   "metadata": {},
   "outputs": [
    {
     "name": "stdout",
     "output_type": "stream",
     "text": [
      "100%|███████████████████████████████████████████| 21/21 [04:13<00:00, 12.05s/it]\n",
      "100%|█████████████████████████████████████████| 200/200 [33:46<00:00, 10.13s/it]\n",
      "FID:  65.47587615584553\n"
     ]
    }
   ],
   "source": [
    "sample_path = './sample_resize'\n",
    "!python -m pytorch_fid ./fake $sample_path\n",
    "print('FID for fine-tuned samples^')\n"
   ]
  },
  {
   "cell_type": "code",
   "execution_count": 20,
   "metadata": {},
   "outputs": [
    {
     "name": "stdout",
     "output_type": "stream",
     "text": [
      "100%|█████████████████████████████████████████████| 3/3 [00:51<00:00, 17.15s/it]\n",
      "100%|█████████████████████████████████████████| 200/200 [36:34<00:00, 10.97s/it]\n",
      "FID:  216.10920810225895\n",
      "FID for base model samples^\n"
     ]
    }
   ],
   "source": [
    "sample_path = './sample_resize'\n",
    "!python -m pytorch_fid ./fakeb $sample_path\n",
    "print('FID for base model samples^')\n"
   ]
  },
  {
   "cell_type": "code",
   "execution_count": 15,
   "metadata": {},
   "outputs": [
    {
     "ename": "UnidentifiedImageError",
     "evalue": "cannot identify image file '/Users/isaiahwilliams/classes/cs236/sample_resize/1078811.jpg'",
     "output_type": "error",
     "traceback": [
      "\u001b[0;31m---------------------------------------------------------------------------\u001b[0m",
      "\u001b[0;31mUnidentifiedImageError\u001b[0m                    Traceback (most recent call last)",
      "\u001b[1;32m/Users/isaiahwilliams/classes/cs236/sample.ipynb Cell 7'\u001b[0m in \u001b[0;36m<cell line: 2>\u001b[0;34m()\u001b[0m\n\u001b[1;32m      <a href='vscode-notebook-cell:/Users/isaiahwilliams/classes/cs236/sample.ipynb#ch0000006?line=0'>1</a>\u001b[0m file \u001b[39m=\u001b[39m \u001b[39m\"\u001b[39m\u001b[39m/Users/isaiahwilliams/classes/cs236/sample_resize/1078811.jpg\u001b[39m\u001b[39m\"\u001b[39m\n\u001b[0;32m----> <a href='vscode-notebook-cell:/Users/isaiahwilliams/classes/cs236/sample.ipynb#ch0000006?line=1'>2</a>\u001b[0m img \u001b[39m=\u001b[39m Image\u001b[39m.\u001b[39;49mopen(file)\n\u001b[1;32m      <a href='vscode-notebook-cell:/Users/isaiahwilliams/classes/cs236/sample.ipynb#ch0000006?line=2'>3</a>\u001b[0m img\u001b[39m.\u001b[39mshow()\n",
      "File \u001b[0;32m~/opt/anaconda3/envs/torch/lib/python3.8/site-packages/PIL/Image.py:3008\u001b[0m, in \u001b[0;36mopen\u001b[0;34m(fp, mode, formats)\u001b[0m\n\u001b[1;32m   <a href='file:///~/opt/anaconda3/envs/torch/lib/python3.8/site-packages/PIL/Image.py?line=3005'>3006</a>\u001b[0m \u001b[39mfor\u001b[39;00m message \u001b[39min\u001b[39;00m accept_warnings:\n\u001b[1;32m   <a href='file:///~/opt/anaconda3/envs/torch/lib/python3.8/site-packages/PIL/Image.py?line=3006'>3007</a>\u001b[0m     warnings\u001b[39m.\u001b[39mwarn(message)\n\u001b[0;32m-> <a href='file:///~/opt/anaconda3/envs/torch/lib/python3.8/site-packages/PIL/Image.py?line=3007'>3008</a>\u001b[0m \u001b[39mraise\u001b[39;00m UnidentifiedImageError(\n\u001b[1;32m   <a href='file:///~/opt/anaconda3/envs/torch/lib/python3.8/site-packages/PIL/Image.py?line=3008'>3009</a>\u001b[0m     \u001b[39m\"\u001b[39m\u001b[39mcannot identify image file \u001b[39m\u001b[39m%r\u001b[39;00m\u001b[39m\"\u001b[39m \u001b[39m%\u001b[39m (filename \u001b[39mif\u001b[39;00m filename \u001b[39melse\u001b[39;00m fp)\n\u001b[1;32m   <a href='file:///~/opt/anaconda3/envs/torch/lib/python3.8/site-packages/PIL/Image.py?line=3009'>3010</a>\u001b[0m )\n",
      "\u001b[0;31mUnidentifiedImageError\u001b[0m: cannot identify image file '/Users/isaiahwilliams/classes/cs236/sample_resize/1078811.jpg'"
     ]
    }
   ],
   "source": [
    "file = \"/Users/isaiahwilliams/classes/cs236/sample_resize/1078811.jpg\"\n",
    "img = Image.open(file)\n",
    "img.show()"
   ]
  },
  {
   "cell_type": "code",
   "execution_count": 21,
   "metadata": {},
   "outputs": [
    {
     "name": "stdout",
     "output_type": "stream",
     "text": [
      "** Path: /Users/isaiahwilliams/classes/cs236/sample_resize/error.txt  ****\r"
     ]
    },
    {
     "ename": "UnidentifiedImageError",
     "evalue": "cannot identify image file '/Users/isaiahwilliams/classes/cs236/sample_resize/error.txt'",
     "output_type": "error",
     "traceback": [
      "\u001b[0;31m---------------------------------------------------------------------------\u001b[0m",
      "\u001b[0;31mUnidentifiedImageError\u001b[0m                    Traceback (most recent call last)",
      "\u001b[1;32m/Users/isaiahwilliams/classes/cs236/sample.ipynb Cell 9'\u001b[0m in \u001b[0;36m<cell line: 5>\u001b[0;34m()\u001b[0m\n\u001b[1;32m      <a href='vscode-notebook-cell:/Users/isaiahwilliams/classes/cs236/sample.ipynb#ch0000005?line=5'>6</a>\u001b[0m file_path \u001b[39m=\u001b[39m os\u001b[39m.\u001b[39mpath\u001b[39m.\u001b[39mjoin(folder_path, filee)\n\u001b[1;32m      <a href='vscode-notebook-cell:/Users/isaiahwilliams/classes/cs236/sample.ipynb#ch0000005?line=6'>7</a>\u001b[0m \u001b[39mprint\u001b[39m(\u001b[39m'\u001b[39m\u001b[39m** Path: \u001b[39m\u001b[39m{}\u001b[39;00m\u001b[39m  **\u001b[39m\u001b[39m'\u001b[39m\u001b[39m.\u001b[39mformat(file_path), end\u001b[39m=\u001b[39m\u001b[39m\"\u001b[39m\u001b[39m\\r\u001b[39;00m\u001b[39m\"\u001b[39m, flush\u001b[39m=\u001b[39m\u001b[39mTrue\u001b[39;00m)\n\u001b[0;32m----> <a href='vscode-notebook-cell:/Users/isaiahwilliams/classes/cs236/sample.ipynb#ch0000005?line=7'>8</a>\u001b[0m im \u001b[39m=\u001b[39m Image\u001b[39m.\u001b[39;49mopen(file_path)\n\u001b[1;32m      <a href='vscode-notebook-cell:/Users/isaiahwilliams/classes/cs236/sample.ipynb#ch0000005?line=8'>9</a>\u001b[0m rgb_im \u001b[39m=\u001b[39m im\u001b[39m.\u001b[39mconvert(\u001b[39m'\u001b[39m\u001b[39mRGB\u001b[39m\u001b[39m'\u001b[39m)\n\u001b[1;32m     <a href='vscode-notebook-cell:/Users/isaiahwilliams/classes/cs236/sample.ipynb#ch0000005?line=9'>10</a>\u001b[0m \u001b[39mif\u001b[39;00m filee\u001b[39m.\u001b[39msplit(\u001b[39m'\u001b[39m\u001b[39m.\u001b[39m\u001b[39m'\u001b[39m)[\u001b[39m1\u001b[39m] \u001b[39mnot\u001b[39;00m \u001b[39min\u001b[39;00m extensions:\n",
      "File \u001b[0;32m~/opt/anaconda3/envs/torch/lib/python3.8/site-packages/PIL/Image.py:3008\u001b[0m, in \u001b[0;36mopen\u001b[0;34m(fp, mode, formats)\u001b[0m\n\u001b[1;32m   <a href='file:///~/opt/anaconda3/envs/torch/lib/python3.8/site-packages/PIL/Image.py?line=3005'>3006</a>\u001b[0m \u001b[39mfor\u001b[39;00m message \u001b[39min\u001b[39;00m accept_warnings:\n\u001b[1;32m   <a href='file:///~/opt/anaconda3/envs/torch/lib/python3.8/site-packages/PIL/Image.py?line=3006'>3007</a>\u001b[0m     warnings\u001b[39m.\u001b[39mwarn(message)\n\u001b[0;32m-> <a href='file:///~/opt/anaconda3/envs/torch/lib/python3.8/site-packages/PIL/Image.py?line=3007'>3008</a>\u001b[0m \u001b[39mraise\u001b[39;00m UnidentifiedImageError(\n\u001b[1;32m   <a href='file:///~/opt/anaconda3/envs/torch/lib/python3.8/site-packages/PIL/Image.py?line=3008'>3009</a>\u001b[0m     \u001b[39m\"\u001b[39m\u001b[39mcannot identify image file \u001b[39m\u001b[39m%r\u001b[39;00m\u001b[39m\"\u001b[39m \u001b[39m%\u001b[39m (filename \u001b[39mif\u001b[39;00m filename \u001b[39melse\u001b[39;00m fp)\n\u001b[1;32m   <a href='file:///~/opt/anaconda3/envs/torch/lib/python3.8/site-packages/PIL/Image.py?line=3009'>3010</a>\u001b[0m )\n",
      "\u001b[0;31mUnidentifiedImageError\u001b[0m: cannot identify image file '/Users/isaiahwilliams/classes/cs236/sample_resize/error.txt'"
     ]
    }
   ],
   "source": [
    "import os\n",
    "from PIL import Image\n",
    "folder_path = '/Users/isaiahwilliams/classes/cs236/sample_resize/'\n",
    "extensions = []\n",
    "for filee in os.listdir(folder_path):\n",
    "        file_path = os.path.join(folder_path, filee)\n",
    "        print('** Path: {}  **'.format(file_path), end=\"\\r\", flush=True)\n",
    "        im = Image.open(file_path)\n",
    "        rgb_im = im.convert('RGB')\n",
    "        if filee.split('.')[1] not in extensions:\n",
    "            extensions.append(filee.split('.')[1])"
   ]
  },
  {
   "cell_type": "code",
   "execution_count": null,
   "metadata": {},
   "outputs": [],
   "source": []
  }
 ],
 "metadata": {
  "interpreter": {
   "hash": "cf6277a89a1511f2ce434acab1b00d04286bdb855dc5571e1cf1eeb6f4b6a298"
  },
  "kernelspec": {
   "display_name": "Python 3.8.12 ('img')",
   "language": "python",
   "name": "python3"
  },
  "language_info": {
   "codemirror_mode": {
    "name": "ipython",
    "version": 3
   },
   "file_extension": ".py",
   "mimetype": "text/x-python",
   "name": "python",
   "nbconvert_exporter": "python",
   "pygments_lexer": "ipython3",
   "version": "3.8.12"
  },
  "orig_nbformat": 4
 },
 "nbformat": 4,
 "nbformat_minor": 2
}
